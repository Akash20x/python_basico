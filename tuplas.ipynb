{
  "nbformat": 4,
  "nbformat_minor": 0,
  "metadata": {
    "colab": {
      "name": "tuplas.ipynb",
      "provenance": [],
      "collapsed_sections": [],
      "authorship_tag": "ABX9TyNetJPwUXTGh06ii0HNn7Cy",
      "include_colab_link": true
    },
    "kernelspec": {
      "name": "python3",
      "display_name": "Python 3"
    }
  },
  "cells": [
    {
      "cell_type": "code",
      "metadata": {
        "id": "Wmnj61Ug1XZD",
        "colab": {
          "base_uri": "https://localhost:8080/"
        },
        "outputId": "3e279871-e330-400c-b833-a62e1f7f32bc"
      },
      "source": [
        "#Tuplas\n",
        "tupla=()\n",
        "print(type(tupla))"
      ],
      "execution_count": 51,
      "outputs": [
        {
          "output_type": "stream",
          "text": [
            "<class 'tuple'>\n"
          ],
          "name": "stdout"
        }
      ]
    },
    {
      "cell_type": "code",
      "metadata": {
        "colab": {
          "base_uri": "https://localhost:8080/"
        },
        "id": "lRf-0Vnpf4kn",
        "outputId": "cb5bc314-4f1e-4684-bb71-8a83303d70d4"
      },
      "source": [
        "#Criando uma tupla com varios indices\n",
        "tupla = (1,2,3,4,5,6,7,8,9,'A','B')\n",
        "print(tupla)"
      ],
      "execution_count": 7,
      "outputs": [
        {
          "output_type": "stream",
          "text": [
            "(1, 2, 3, 4, 5, 6, 7, 8, 9, 'A', 'B')\n"
          ],
          "name": "stdout"
        }
      ]
    },
    {
      "cell_type": "code",
      "metadata": {
        "colab": {
          "base_uri": "https://localhost:8080/"
        },
        "id": "CO4XZ4higYHZ",
        "outputId": "72191824-b751-4bfe-a99c-2a07ab02cbca"
      },
      "source": [
        "#Acessando indices\n",
        "tupla = (1,2,3,4,5,6,7,8,9,'A','B')\n",
        "print(tupla[0:])"
      ],
      "execution_count": 16,
      "outputs": [
        {
          "output_type": "stream",
          "text": [
            "(1, 2, 3, 4, 5, 6, 7, 8, 9, 'A')\n"
          ],
          "name": "stdout"
        }
      ]
    },
    {
      "cell_type": "code",
      "metadata": {
        "colab": {
          "base_uri": "https://localhost:8080/"
        },
        "id": "2AintjYuhHpR",
        "outputId": "24043179-0271-4931-9e46-a65519ce7267"
      },
      "source": [
        "#Iterando Tupla\n",
        "tupla = (1,2,3,4,5,6,7,8,9,'A','B')\n",
        "for x in tupla:\n",
        "  print(x)"
      ],
      "execution_count": 22,
      "outputs": [
        {
          "output_type": "stream",
          "text": [
            "1\n",
            "2\n",
            "3\n",
            "4\n",
            "5\n",
            "6\n",
            "7\n",
            "8\n",
            "9\n",
            "A\n",
            "B\n"
          ],
          "name": "stdout"
        }
      ]
    },
    {
      "cell_type": "code",
      "metadata": {
        "colab": {
          "base_uri": "https://localhost:8080/"
        },
        "id": "aa-lsStyhzqS",
        "outputId": "f2f5e183-1b47-401a-c819-ebc163d37af6"
      },
      "source": [
        "#Criando uma tupla sem ()\n",
        "#Uma tupla não precisa dos parênteses para ser criada\n",
        "tupla = 1,2,3,4,5,6,7,8,9\n",
        "print(tupla)"
      ],
      "execution_count": 24,
      "outputs": [
        {
          "output_type": "stream",
          "text": [
            "(1, 2, 3, 4, 5, 6, 7, 8, 9)\n"
          ],
          "name": "stdout"
        }
      ]
    },
    {
      "cell_type": "code",
      "metadata": {
        "colab": {
          "base_uri": "https://localhost:8080/"
        },
        "id": "wl2cpeTdiDO5",
        "outputId": "c482ed41-f5ca-4863-f19b-7aef5fa94e5d"
      },
      "source": [
        "#Concatenando Tuplas\n",
        "tuplaX = (1,2,3,4,5)\n",
        "tuplaY = (6,7,8,9,10)\n",
        "\n",
        "tupla = tuplaX + tuplaY\n",
        "print(tupla)"
      ],
      "execution_count": 29,
      "outputs": [
        {
          "output_type": "stream",
          "text": [
            "(1, 2, 3, 4, 5, 6, 7, 8, 9, 10)\n"
          ],
          "name": "stdout"
        }
      ]
    },
    {
      "cell_type": "code",
      "metadata": {
        "colab": {
          "base_uri": "https://localhost:8080/"
        },
        "id": "gnC5MDVei-5_",
        "outputId": "477bb7b3-fdab-4eed-91fa-805a87f5f214"
      },
      "source": [
        "#Se da pra concatenar tuplas...podemos multiplicar elas? SIM!\n",
        "tupla = (1,2,3,4,5,6) * 2\n",
        "print(tupla)"
      ],
      "execution_count": 32,
      "outputs": [
        {
          "output_type": "stream",
          "text": [
            "(1, 2, 3, 4, 5, 6, 1, 2, 3, 4, 5, 6)\n"
          ],
          "name": "stdout"
        }
      ]
    },
    {
      "cell_type": "code",
      "metadata": {
        "colab": {
          "base_uri": "https://localhost:8080/",
          "height": 214
        },
        "id": "SKaS_GO4jvdC",
        "outputId": "bec50450-d255-42a2-ffc5-d221b01e3b9f"
      },
      "source": [
        "#O que acontece se tentarmos alterar indices de dentro de uma tupla?\n",
        "tupla = (1,2,3,4,5,6)\n",
        "tupla[0] = 3      #Tetando alterar o indice 0=1 para 0=3\n",
        "                  #'tuple' object does not support item assignment\n",
        "                  #Tuplas não podem ser alteradas"
      ],
      "execution_count": 35,
      "outputs": [
        {
          "output_type": "error",
          "ename": "TypeError",
          "evalue": "ignored",
          "traceback": [
            "\u001b[0;31m---------------------------------------------------------------------------\u001b[0m",
            "\u001b[0;31mTypeError\u001b[0m                                 Traceback (most recent call last)",
            "\u001b[0;32m<ipython-input-35-42449f3b9375>\u001b[0m in \u001b[0;36m<module>\u001b[0;34m()\u001b[0m\n\u001b[1;32m      1\u001b[0m \u001b[0;31m#O que acontece se tentarmos alterar indices de dentro de uma tupla?\u001b[0m\u001b[0;34m\u001b[0m\u001b[0;34m\u001b[0m\u001b[0;34m\u001b[0m\u001b[0m\n\u001b[1;32m      2\u001b[0m \u001b[0mtupla\u001b[0m \u001b[0;34m=\u001b[0m \u001b[0;34m(\u001b[0m\u001b[0;36m1\u001b[0m\u001b[0;34m,\u001b[0m\u001b[0;36m2\u001b[0m\u001b[0;34m,\u001b[0m\u001b[0;36m3\u001b[0m\u001b[0;34m,\u001b[0m\u001b[0;36m4\u001b[0m\u001b[0;34m,\u001b[0m\u001b[0;36m5\u001b[0m\u001b[0;34m,\u001b[0m\u001b[0;36m6\u001b[0m\u001b[0;34m)\u001b[0m\u001b[0;34m\u001b[0m\u001b[0;34m\u001b[0m\u001b[0m\n\u001b[0;32m----> 3\u001b[0;31m \u001b[0mtupla\u001b[0m\u001b[0;34m[\u001b[0m\u001b[0;36m1\u001b[0m\u001b[0;34m]\u001b[0m \u001b[0;34m=\u001b[0m \u001b[0;36m3\u001b[0m\u001b[0;34m\u001b[0m\u001b[0;34m\u001b[0m\u001b[0m\n\u001b[0m\u001b[1;32m      4\u001b[0m \u001b[0;31m#'tuple' object does not support item assignment\u001b[0m\u001b[0;34m\u001b[0m\u001b[0;34m\u001b[0m\u001b[0;34m\u001b[0m\u001b[0m\n",
            "\u001b[0;31mTypeError\u001b[0m: 'tuple' object does not support item assignment"
          ]
        }
      ]
    },
    {
      "cell_type": "code",
      "metadata": {
        "colab": {
          "base_uri": "https://localhost:8080/"
        },
        "id": "r94GLbZpkSh7",
        "outputId": "82258ad6-9015-4b1f-8ed8-4b20f860f2da"
      },
      "source": [
        "#Mas podemos fazer isso de outra maneira! \n",
        "#Os itens dentro de uma tupla não podem ser alterados, isso nós sabemos. Mas como podemos fazer isso caso fosse necessário?\n",
        "#Veja :\n",
        "tupla = (1,2,3,4,5,6) #Criamos a Tupla normalmente\n",
        "print(tupla)          #Vamos ver como ela está\n",
        "tupla = list(tupla)   #Convertemos a Tupla para uma Lista\n",
        "tupla[2] = 3          #Alteramos o item dentro da Lista\n",
        "print(tupla)          #Vamos ver nossa Lista"
      ],
      "execution_count": 42,
      "outputs": [
        {
          "output_type": "stream",
          "text": [
            "(1, 2, 3, 4, 5, 6)\n",
            "[1, 2, 3, 4, 5, 6]\n"
          ],
          "name": "stdout"
        }
      ]
    },
    {
      "cell_type": "code",
      "metadata": {
        "colab": {
          "base_uri": "https://localhost:8080/"
        },
        "id": "dJjkLxAQnGX1",
        "outputId": "1f880a27-a3db-4ed1-9bad-51bb09cda1e8"
      },
      "source": [
        "#Mais um exemplo de tuplas\n",
        "#Uma lanchonete está oferencendo varios combos de lanches para seus clientes, crie algumas tuplas com os seguintes itens :\n",
        "#X-burguer, Coca-cola, Suco de Limão, Big-XTudo, Suco de Laranja, Sanduiche, Catupiri, Bacon,Bolacha, Pastel de Carne,\n",
        "#Pastel de Queijo, Pastel de Frango, Pizza de Calabresa\n",
        "\n",
        "combo1 = ('X-burguer', 'Bacon','Suco de Limão')\n",
        "combo2 = ('Big-Xtudo', 'Bacon', 'Coca-Cola')\n",
        "combo3 = ('Pastel de Carne', 'Catupiri', 'Bacon', 'Coca-Cola')\n",
        "print(combo1,combo2,combo3)\n",
        "\n",
        "#Agora imagine que o cliente pediu o duas vezes o combo3, três vezes o combo1, quatro vezes o combo2 \n",
        "#e ainda completou pedindo pra misturar o combo2 com o combo3\n",
        "\n",
        "pedido1 = combo3 *2  #Atribuindo o valor da Tupla para uma variavel e multiplicando por 2\n",
        "print(pedido1)\n",
        "combo1 = combo1*3    #CUIDADO : Atribuindo o novo valor da Tupla a ela mesma, Isso vai fazer com que o valor incial da Tupla seja alterado\n",
        "print(combo1)      \n",
        "print(combo1)        #CUIDADO : Agora toda vez que chamarmos pelo Combo1 ele vai trazer o valor multiplicado por 3\n",
        "pedido3 = combo2*4   #Como no primeiro exemplo, criei uma variavel para que seja atribuido o valor do combo3\n",
        "print(pedido3)\n",
        "pedido4 = combo2 + combo3     #Aqui terminamos o exemplo fazendo a concatenação dos pedidos do cliente\n",
        "print(pedido4)"
      ],
      "execution_count": 50,
      "outputs": [
        {
          "output_type": "stream",
          "text": [
            "('X-burguer', 'Bacon', 'Suco de Limão') ('Big-Xtudo', 'Bacon', 'Coca-Cola') ('Pastel de Carne', 'Catupiri', 'Bacon', 'Coca-Cola')\n",
            "('Pastel de Carne', 'Catupiri', 'Bacon', 'Coca-Cola', 'Pastel de Carne', 'Catupiri', 'Bacon', 'Coca-Cola')\n",
            "('X-burguer', 'Bacon', 'Suco de Limão', 'X-burguer', 'Bacon', 'Suco de Limão', 'X-burguer', 'Bacon', 'Suco de Limão')\n",
            "('X-burguer', 'Bacon', 'Suco de Limão', 'X-burguer', 'Bacon', 'Suco de Limão', 'X-burguer', 'Bacon', 'Suco de Limão')\n",
            "('Big-Xtudo', 'Bacon', 'Coca-Cola', 'Big-Xtudo', 'Bacon', 'Coca-Cola', 'Big-Xtudo', 'Bacon', 'Coca-Cola', 'Big-Xtudo', 'Bacon', 'Coca-Cola')\n",
            "('Big-Xtudo', 'Bacon', 'Coca-Cola', 'Pastel de Carne', 'Catupiri', 'Bacon', 'Coca-Cola')\n"
          ],
          "name": "stdout"
        }
      ]
    }
  ]
}
